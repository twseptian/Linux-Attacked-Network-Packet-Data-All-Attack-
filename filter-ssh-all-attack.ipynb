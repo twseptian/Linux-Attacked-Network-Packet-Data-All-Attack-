{
 "cells": [
  {
   "cell_type": "code",
   "execution_count": 24,
   "metadata": {
    "collapsed": true
   },
   "outputs": [],
   "source": [
    "import pandas as pd\n",
    "import numpy as np\n",
    "import matplotlib.pyplot as plt"
   ]
  },
  {
   "cell_type": "code",
   "execution_count": 25,
   "metadata": {
    "collapsed": true
   },
   "outputs": [],
   "source": [
    "%matplotlib inline"
   ]
  },
  {
   "cell_type": "code",
   "execution_count": 26,
   "metadata": {
    "collapsed": false
   },
   "outputs": [
    {
     "data": {
      "text/html": [
       "<div style=\"max-height:1000px;max-width:1500px;overflow:auto;\">\n",
       "<table border=\"1\" class=\"dataframe\">\n",
       "  <thead>\n",
       "    <tr style=\"text-align: right;\">\n",
       "      <th></th>\n",
       "      <th>Time</th>\n",
       "      <th>Source</th>\n",
       "      <th>Destination</th>\n",
       "      <th>Protocol</th>\n",
       "      <th>Length</th>\n",
       "      <th>Info</th>\n",
       "    </tr>\n",
       "  </thead>\n",
       "  <tbody>\n",
       "    <tr>\n",
       "      <th>0</th>\n",
       "      <td>2011-11-04 10:04:53</td>\n",
       "      <td>  10.10.10.5</td>\n",
       "      <td> 10.10.10.20</td>\n",
       "      <td>   SSH</td>\n",
       "      <td> 89</td>\n",
       "      <td>    Server: Protocol (SSH-1.99-OpenSSH_3.5p1)</td>\n",
       "    </tr>\n",
       "    <tr>\n",
       "      <th>1</th>\n",
       "      <td>2011-11-04 10:05:01</td>\n",
       "      <td>  10.10.10.5</td>\n",
       "      <td> 10.10.10.15</td>\n",
       "      <td>   SSH</td>\n",
       "      <td> 77</td>\n",
       "      <td>    Server: Protocol (SSH-1.99-OpenSSH_3.5p1)</td>\n",
       "    </tr>\n",
       "    <tr>\n",
       "      <th>2</th>\n",
       "      <td>2011-11-04 10:05:02</td>\n",
       "      <td>  10.10.10.5</td>\n",
       "      <td> 10.10.10.15</td>\n",
       "      <td>   SSH</td>\n",
       "      <td> 77</td>\n",
       "      <td>    Server: Protocol (SSH-1.99-OpenSSH_3.5p1)</td>\n",
       "    </tr>\n",
       "    <tr>\n",
       "      <th>3</th>\n",
       "      <td>2011-11-04 10:05:06</td>\n",
       "      <td>  10.10.10.5</td>\n",
       "      <td> 10.10.10.20</td>\n",
       "      <td> SSHv1</td>\n",
       "      <td> 89</td>\n",
       "      <td>    Server: Protocol (SSH-1.99-OpenSSH_3.5p1)</td>\n",
       "    </tr>\n",
       "    <tr>\n",
       "      <th>4</th>\n",
       "      <td>2011-11-04 10:05:07</td>\n",
       "      <td> 10.10.10.20</td>\n",
       "      <td>  10.10.10.5</td>\n",
       "      <td> SSHv1</td>\n",
       "      <td> 93</td>\n",
       "      <td> Client: Protocol (SSH-1.5-Nmap-SSH1-Hostkey)</td>\n",
       "    </tr>\n",
       "  </tbody>\n",
       "</table>\n",
       "</div>"
      ],
      "text/plain": [
       "                 Time       Source  Destination Protocol  Length  \\\n",
       "0 2011-11-04 10:04:53   10.10.10.5  10.10.10.20      SSH      89   \n",
       "1 2011-11-04 10:05:01   10.10.10.5  10.10.10.15      SSH      77   \n",
       "2 2011-11-04 10:05:02   10.10.10.5  10.10.10.15      SSH      77   \n",
       "3 2011-11-04 10:05:06   10.10.10.5  10.10.10.20    SSHv1      89   \n",
       "4 2011-11-04 10:05:07  10.10.10.20   10.10.10.5    SSHv1      93   \n",
       "\n",
       "                                           Info  \n",
       "0     Server: Protocol (SSH-1.99-OpenSSH_3.5p1)  \n",
       "1     Server: Protocol (SSH-1.99-OpenSSH_3.5p1)  \n",
       "2     Server: Protocol (SSH-1.99-OpenSSH_3.5p1)  \n",
       "3     Server: Protocol (SSH-1.99-OpenSSH_3.5p1)  \n",
       "4  Client: Protocol (SSH-1.5-Nmap-SSH1-Hostkey)  "
      ]
     },
     "execution_count": 26,
     "metadata": {},
     "output_type": "execute_result"
    }
   ],
   "source": [
    "rhpass=pd.read_csv(\"csv_filter_ssh_all_attack_redhat_tcpdump.csv\", parse_dates=['Time'])\n",
    "rhpass.head()"
   ]
  },
  {
   "cell_type": "code",
   "execution_count": 27,
   "metadata": {
    "collapsed": true
   },
   "outputs": [],
   "source": [
    "rhpass[\"Type\"] = rhpass.apply(lambda x: \"Client\" if x[\"Source\"] == rhpass.irow(0)[\"Source\"] else \"Server\", axis=1)"
   ]
  },
  {
   "cell_type": "code",
   "execution_count": 28,
   "metadata": {
    "collapsed": false
   },
   "outputs": [
    {
     "data": {
      "text/html": [
       "<div style=\"max-height:1000px;max-width:1500px;overflow:auto;\">\n",
       "<table border=\"1\" class=\"dataframe\">\n",
       "  <thead>\n",
       "    <tr style=\"text-align: right;\">\n",
       "      <th></th>\n",
       "      <th>Time</th>\n",
       "      <th>Source</th>\n",
       "      <th>Destination</th>\n",
       "      <th>Protocol</th>\n",
       "      <th>Length</th>\n",
       "      <th>Info</th>\n",
       "      <th>Type</th>\n",
       "    </tr>\n",
       "  </thead>\n",
       "  <tbody>\n",
       "    <tr>\n",
       "      <th>0</th>\n",
       "      <td>2011-11-04 10:04:53</td>\n",
       "      <td>  10.10.10.5</td>\n",
       "      <td> 10.10.10.20</td>\n",
       "      <td>   SSH</td>\n",
       "      <td> 89</td>\n",
       "      <td>    Server: Protocol (SSH-1.99-OpenSSH_3.5p1)</td>\n",
       "      <td> Client</td>\n",
       "    </tr>\n",
       "    <tr>\n",
       "      <th>1</th>\n",
       "      <td>2011-11-04 10:05:01</td>\n",
       "      <td>  10.10.10.5</td>\n",
       "      <td> 10.10.10.15</td>\n",
       "      <td>   SSH</td>\n",
       "      <td> 77</td>\n",
       "      <td>    Server: Protocol (SSH-1.99-OpenSSH_3.5p1)</td>\n",
       "      <td> Client</td>\n",
       "    </tr>\n",
       "    <tr>\n",
       "      <th>2</th>\n",
       "      <td>2011-11-04 10:05:02</td>\n",
       "      <td>  10.10.10.5</td>\n",
       "      <td> 10.10.10.15</td>\n",
       "      <td>   SSH</td>\n",
       "      <td> 77</td>\n",
       "      <td>    Server: Protocol (SSH-1.99-OpenSSH_3.5p1)</td>\n",
       "      <td> Client</td>\n",
       "    </tr>\n",
       "    <tr>\n",
       "      <th>3</th>\n",
       "      <td>2011-11-04 10:05:06</td>\n",
       "      <td>  10.10.10.5</td>\n",
       "      <td> 10.10.10.20</td>\n",
       "      <td> SSHv1</td>\n",
       "      <td> 89</td>\n",
       "      <td>    Server: Protocol (SSH-1.99-OpenSSH_3.5p1)</td>\n",
       "      <td> Client</td>\n",
       "    </tr>\n",
       "    <tr>\n",
       "      <th>4</th>\n",
       "      <td>2011-11-04 10:05:07</td>\n",
       "      <td> 10.10.10.20</td>\n",
       "      <td>  10.10.10.5</td>\n",
       "      <td> SSHv1</td>\n",
       "      <td> 93</td>\n",
       "      <td> Client: Protocol (SSH-1.5-Nmap-SSH1-Hostkey)</td>\n",
       "      <td> Server</td>\n",
       "    </tr>\n",
       "  </tbody>\n",
       "</table>\n",
       "</div>"
      ],
      "text/plain": [
       "                 Time       Source  Destination Protocol  Length  \\\n",
       "0 2011-11-04 10:04:53   10.10.10.5  10.10.10.20      SSH      89   \n",
       "1 2011-11-04 10:05:01   10.10.10.5  10.10.10.15      SSH      77   \n",
       "2 2011-11-04 10:05:02   10.10.10.5  10.10.10.15      SSH      77   \n",
       "3 2011-11-04 10:05:06   10.10.10.5  10.10.10.20    SSHv1      89   \n",
       "4 2011-11-04 10:05:07  10.10.10.20   10.10.10.5    SSHv1      93   \n",
       "\n",
       "                                           Info    Type  \n",
       "0     Server: Protocol (SSH-1.99-OpenSSH_3.5p1)  Client  \n",
       "1     Server: Protocol (SSH-1.99-OpenSSH_3.5p1)  Client  \n",
       "2     Server: Protocol (SSH-1.99-OpenSSH_3.5p1)  Client  \n",
       "3     Server: Protocol (SSH-1.99-OpenSSH_3.5p1)  Client  \n",
       "4  Client: Protocol (SSH-1.5-Nmap-SSH1-Hostkey)  Server  "
      ]
     },
     "execution_count": 28,
     "metadata": {},
     "output_type": "execute_result"
    }
   ],
   "source": [
    "rhpass.head()"
   ]
  },
  {
   "cell_type": "code",
   "execution_count": 29,
   "metadata": {
    "collapsed": false
   },
   "outputs": [
    {
     "data": {
      "text/html": [
       "<div style=\"max-height:1000px;max-width:1500px;overflow:auto;\">\n",
       "<table border=\"1\" class=\"dataframe\">\n",
       "  <thead>\n",
       "    <tr style=\"text-align: right;\">\n",
       "      <th></th>\n",
       "      <th>Length</th>\n",
       "      <th>Time</th>\n",
       "      <th>Info</th>\n",
       "    </tr>\n",
       "  </thead>\n",
       "  <tbody>\n",
       "    <tr>\n",
       "      <th>0</th>\n",
       "      <td> 89</td>\n",
       "      <td>2011-11-04 10:04:53</td>\n",
       "      <td>    Server: Protocol (SSH-1.99-OpenSSH_3.5p1)</td>\n",
       "    </tr>\n",
       "    <tr>\n",
       "      <th>1</th>\n",
       "      <td> 77</td>\n",
       "      <td>2011-11-04 10:05:01</td>\n",
       "      <td>    Server: Protocol (SSH-1.99-OpenSSH_3.5p1)</td>\n",
       "    </tr>\n",
       "    <tr>\n",
       "      <th>2</th>\n",
       "      <td> 77</td>\n",
       "      <td>2011-11-04 10:05:02</td>\n",
       "      <td>    Server: Protocol (SSH-1.99-OpenSSH_3.5p1)</td>\n",
       "    </tr>\n",
       "    <tr>\n",
       "      <th>3</th>\n",
       "      <td> 89</td>\n",
       "      <td>2011-11-04 10:05:06</td>\n",
       "      <td>    Server: Protocol (SSH-1.99-OpenSSH_3.5p1)</td>\n",
       "    </tr>\n",
       "    <tr>\n",
       "      <th>4</th>\n",
       "      <td> 93</td>\n",
       "      <td>2011-11-04 10:05:07</td>\n",
       "      <td> Client: Protocol (SSH-1.5-Nmap-SSH1-Hostkey)</td>\n",
       "    </tr>\n",
       "  </tbody>\n",
       "</table>\n",
       "</div>"
      ],
      "text/plain": [
       "   Length                Time                                          Info\n",
       "0      89 2011-11-04 10:04:53     Server: Protocol (SSH-1.99-OpenSSH_3.5p1)\n",
       "1      77 2011-11-04 10:05:01     Server: Protocol (SSH-1.99-OpenSSH_3.5p1)\n",
       "2      77 2011-11-04 10:05:02     Server: Protocol (SSH-1.99-OpenSSH_3.5p1)\n",
       "3      89 2011-11-04 10:05:06     Server: Protocol (SSH-1.99-OpenSSH_3.5p1)\n",
       "4      93 2011-11-04 10:05:07  Client: Protocol (SSH-1.5-Nmap-SSH1-Hostkey)"
      ]
     },
     "execution_count": 29,
     "metadata": {},
     "output_type": "execute_result"
    }
   ],
   "source": [
    "infodata2 = rhpass[['Length','Time','Info']]\n",
    "infodata2.head()"
   ]
  },
  {
   "cell_type": "code",
   "execution_count": 30,
   "metadata": {
    "collapsed": false
   },
   "outputs": [
    {
     "data": {
      "text/html": [
       "<div style=\"max-height:1000px;max-width:1500px;overflow:auto;\">\n",
       "<table border=\"1\" class=\"dataframe\">\n",
       "  <thead>\n",
       "    <tr style=\"text-align: right;\">\n",
       "      <th></th>\n",
       "      <th>Length</th>\n",
       "      <th>Info</th>\n",
       "    </tr>\n",
       "    <tr>\n",
       "      <th>Time</th>\n",
       "      <th></th>\n",
       "      <th></th>\n",
       "    </tr>\n",
       "  </thead>\n",
       "  <tbody>\n",
       "    <tr>\n",
       "      <th>2011-11-04 10:04:53</th>\n",
       "      <td> 89</td>\n",
       "      <td>    Server: Protocol (SSH-1.99-OpenSSH_3.5p1)</td>\n",
       "    </tr>\n",
       "    <tr>\n",
       "      <th>2011-11-04 10:05:01</th>\n",
       "      <td> 77</td>\n",
       "      <td>    Server: Protocol (SSH-1.99-OpenSSH_3.5p1)</td>\n",
       "    </tr>\n",
       "    <tr>\n",
       "      <th>2011-11-04 10:05:02</th>\n",
       "      <td> 77</td>\n",
       "      <td>    Server: Protocol (SSH-1.99-OpenSSH_3.5p1)</td>\n",
       "    </tr>\n",
       "    <tr>\n",
       "      <th>2011-11-04 10:05:06</th>\n",
       "      <td> 89</td>\n",
       "      <td>    Server: Protocol (SSH-1.99-OpenSSH_3.5p1)</td>\n",
       "    </tr>\n",
       "    <tr>\n",
       "      <th>2011-11-04 10:05:07</th>\n",
       "      <td> 93</td>\n",
       "      <td> Client: Protocol (SSH-1.5-Nmap-SSH1-Hostkey)</td>\n",
       "    </tr>\n",
       "  </tbody>\n",
       "</table>\n",
       "</div>"
      ],
      "text/plain": [
       "                     Length                                          Info\n",
       "Time                                                                     \n",
       "2011-11-04 10:04:53      89     Server: Protocol (SSH-1.99-OpenSSH_3.5p1)\n",
       "2011-11-04 10:05:01      77     Server: Protocol (SSH-1.99-OpenSSH_3.5p1)\n",
       "2011-11-04 10:05:02      77     Server: Protocol (SSH-1.99-OpenSSH_3.5p1)\n",
       "2011-11-04 10:05:06      89     Server: Protocol (SSH-1.99-OpenSSH_3.5p1)\n",
       "2011-11-04 10:05:07      93  Client: Protocol (SSH-1.5-Nmap-SSH1-Hostkey)"
      ]
     },
     "execution_count": 30,
     "metadata": {},
     "output_type": "execute_result"
    }
   ],
   "source": [
    "infodata2 = infodata2.set_index('Time')\n",
    "infodata2.head()"
   ]
  },
  {
   "cell_type": "code",
   "execution_count": 31,
   "metadata": {
    "collapsed": false
   },
   "outputs": [
    {
     "data": {
      "text/html": [
       "<div style=\"max-height:1000px;max-width:1500px;overflow:auto;\">\n",
       "<table border=\"1\" class=\"dataframe\">\n",
       "  <thead>\n",
       "    <tr style=\"text-align: right;\">\n",
       "      <th></th>\n",
       "      <th>Length</th>\n",
       "    </tr>\n",
       "    <tr>\n",
       "      <th>Time</th>\n",
       "      <th></th>\n",
       "    </tr>\n",
       "  </thead>\n",
       "  <tbody>\n",
       "    <tr>\n",
       "      <th>2011-11-04 10:00:00</th>\n",
       "      <td>   710889</td>\n",
       "    </tr>\n",
       "    <tr>\n",
       "      <th>2011-11-04 11:00:00</th>\n",
       "      <td> 21568080</td>\n",
       "    </tr>\n",
       "    <tr>\n",
       "      <th>2011-11-04 12:00:00</th>\n",
       "      <td> 22716148</td>\n",
       "    </tr>\n",
       "    <tr>\n",
       "      <th>2011-11-04 13:00:00</th>\n",
       "      <td> 15417161</td>\n",
       "    </tr>\n",
       "    <tr>\n",
       "      <th>2011-11-04 14:00:00</th>\n",
       "      <td> 15426298</td>\n",
       "    </tr>\n",
       "  </tbody>\n",
       "</table>\n",
       "</div>"
      ],
      "text/plain": [
       "                       Length\n",
       "Time                         \n",
       "2011-11-04 10:00:00    710889\n",
       "2011-11-04 11:00:00  21568080\n",
       "2011-11-04 12:00:00  22716148\n",
       "2011-11-04 13:00:00  15417161\n",
       "2011-11-04 14:00:00  15426298"
      ]
     },
     "execution_count": 31,
     "metadata": {},
     "output_type": "execute_result"
    }
   ],
   "source": [
    "infodata2.resample('H',how=sum).head()"
   ]
  },
  {
   "cell_type": "code",
   "execution_count": 37,
   "metadata": {
    "collapsed": false,
    "scrolled": true
   },
   "outputs": [
    {
     "data": {
      "image/png": "[encoded data removed]",
      "text/plain": [
       "<matplotlib.figure.Figure at 0xaa52be8c>"
      ]
     },
     "metadata": {},
     "output_type": "display_data"
    }
   ],
   "source": [
    "infodata2_plot = infodata2.resample('H',how=sum).plot(kind=\"barh\",title=\"Frekuensi Bruteforce SSH Attack\",figsize=(20,4),legend=True)"
   ]
  },
  {
   "cell_type": "code",
   "execution_count": 39,
   "metadata": {
    "collapsed": true
   },
   "outputs": [],
   "source": [
    "fig = infodata2_plot.get_figure()\n",
    "fig.savefig(\"Frekuensi Bruteforce SSH Attack time.png\")"
   ]
  },
  {
   "cell_type": "code",
   "execution_count": 33,
   "metadata": {
    "collapsed": false
   },
   "outputs": [
    {
     "data": {
      "text/html": [
       "<div style=\"max-height:1000px;max-width:1500px;overflow:auto;\">\n",
       "<table border=\"1\" class=\"dataframe\">\n",
       "  <thead>\n",
       "    <tr style=\"text-align: right;\">\n",
       "      <th></th>\n",
       "      <th>Time</th>\n",
       "      <th>Source</th>\n",
       "      <th>Destination</th>\n",
       "      <th>Protocol</th>\n",
       "      <th>Length</th>\n",
       "      <th>Info</th>\n",
       "      <th>Type</th>\n",
       "    </tr>\n",
       "  </thead>\n",
       "  <tbody>\n",
       "    <tr>\n",
       "      <th>0</th>\n",
       "      <td>2011-11-04 10:04:53</td>\n",
       "      <td>  10.10.10.5</td>\n",
       "      <td> 10.10.10.20</td>\n",
       "      <td>   SSH</td>\n",
       "      <td> 89</td>\n",
       "      <td>    Server: Protocol (SSH-1.99-OpenSSH_3.5p1)</td>\n",
       "      <td> Client</td>\n",
       "    </tr>\n",
       "    <tr>\n",
       "      <th>1</th>\n",
       "      <td>2011-11-04 10:05:01</td>\n",
       "      <td>  10.10.10.5</td>\n",
       "      <td> 10.10.10.15</td>\n",
       "      <td>   SSH</td>\n",
       "      <td> 77</td>\n",
       "      <td>    Server: Protocol (SSH-1.99-OpenSSH_3.5p1)</td>\n",
       "      <td> Client</td>\n",
       "    </tr>\n",
       "    <tr>\n",
       "      <th>2</th>\n",
       "      <td>2011-11-04 10:05:02</td>\n",
       "      <td>  10.10.10.5</td>\n",
       "      <td> 10.10.10.15</td>\n",
       "      <td>   SSH</td>\n",
       "      <td> 77</td>\n",
       "      <td>    Server: Protocol (SSH-1.99-OpenSSH_3.5p1)</td>\n",
       "      <td> Client</td>\n",
       "    </tr>\n",
       "    <tr>\n",
       "      <th>3</th>\n",
       "      <td>2011-11-04 10:05:06</td>\n",
       "      <td>  10.10.10.5</td>\n",
       "      <td> 10.10.10.20</td>\n",
       "      <td> SSHv1</td>\n",
       "      <td> 89</td>\n",
       "      <td>    Server: Protocol (SSH-1.99-OpenSSH_3.5p1)</td>\n",
       "      <td> Client</td>\n",
       "    </tr>\n",
       "    <tr>\n",
       "      <th>4</th>\n",
       "      <td>2011-11-04 10:05:07</td>\n",
       "      <td> 10.10.10.20</td>\n",
       "      <td>  10.10.10.5</td>\n",
       "      <td> SSHv1</td>\n",
       "      <td> 93</td>\n",
       "      <td> Client: Protocol (SSH-1.5-Nmap-SSH1-Hostkey)</td>\n",
       "      <td> Server</td>\n",
       "    </tr>\n",
       "  </tbody>\n",
       "</table>\n",
       "</div>"
      ],
      "text/plain": [
       "                 Time       Source  Destination Protocol  Length  \\\n",
       "0 2011-11-04 10:04:53   10.10.10.5  10.10.10.20      SSH      89   \n",
       "1 2011-11-04 10:05:01   10.10.10.5  10.10.10.15      SSH      77   \n",
       "2 2011-11-04 10:05:02   10.10.10.5  10.10.10.15      SSH      77   \n",
       "3 2011-11-04 10:05:06   10.10.10.5  10.10.10.20    SSHv1      89   \n",
       "4 2011-11-04 10:05:07  10.10.10.20   10.10.10.5    SSHv1      93   \n",
       "\n",
       "                                           Info    Type  \n",
       "0     Server: Protocol (SSH-1.99-OpenSSH_3.5p1)  Client  \n",
       "1     Server: Protocol (SSH-1.99-OpenSSH_3.5p1)  Client  \n",
       "2     Server: Protocol (SSH-1.99-OpenSSH_3.5p1)  Client  \n",
       "3     Server: Protocol (SSH-1.99-OpenSSH_3.5p1)  Client  \n",
       "4  Client: Protocol (SSH-1.5-Nmap-SSH1-Hostkey)  Server  "
      ]
     },
     "execution_count": 33,
     "metadata": {},
     "output_type": "execute_result"
    }
   ],
   "source": [
    "rhpass.head()"
   ]
  },
  {
   "cell_type": "code",
   "execution_count": 34,
   "metadata": {
    "collapsed": false
   },
   "outputs": [
    {
     "data": {
      "text/html": [
       "<div style=\"max-height:1000px;max-width:1500px;overflow:auto;\">\n",
       "<table border=\"1\" class=\"dataframe\">\n",
       "  <thead>\n",
       "    <tr style=\"text-align: right;\">\n",
       "      <th></th>\n",
       "      <th></th>\n",
       "      <th></th>\n",
       "      <th>Length</th>\n",
       "    </tr>\n",
       "    <tr>\n",
       "      <th>Source</th>\n",
       "      <th>Destination</th>\n",
       "      <th>Protocol</th>\n",
       "      <th></th>\n",
       "    </tr>\n",
       "  </thead>\n",
       "  <tbody>\n",
       "    <tr>\n",
       "      <th rowspan=\"2\" valign=\"top\">10.10.10.15</th>\n",
       "      <th rowspan=\"2\" valign=\"top\">10.10.10.5</th>\n",
       "      <th>SSH</th>\n",
       "      <td>    20638</td>\n",
       "    </tr>\n",
       "    <tr>\n",
       "      <th>SSHv2</th>\n",
       "      <td>     6168</td>\n",
       "    </tr>\n",
       "    <tr>\n",
       "      <th rowspan=\"3\" valign=\"top\">10.10.10.20</th>\n",
       "      <th rowspan=\"3\" valign=\"top\">10.10.10.5</th>\n",
       "      <th>SSH</th>\n",
       "      <td>    65696</td>\n",
       "    </tr>\n",
       "    <tr>\n",
       "      <th>SSHv1</th>\n",
       "      <td>     1074</td>\n",
       "    </tr>\n",
       "    <tr>\n",
       "      <th>SSHv2</th>\n",
       "      <td> 33216862</td>\n",
       "    </tr>\n",
       "  </tbody>\n",
       "</table>\n",
       "</div>"
      ],
      "text/plain": [
       "                                    Length\n",
       "Source      Destination Protocol          \n",
       "10.10.10.15 10.10.10.5  SSH          20638\n",
       "                        SSHv2         6168\n",
       "10.10.10.20 10.10.10.5  SSH          65696\n",
       "                        SSHv1         1074\n",
       "                        SSHv2     33216862"
      ]
     },
     "execution_count": 34,
     "metadata": {},
     "output_type": "execute_result"
    }
   ],
   "source": [
    "category_group=rhpass.groupby(['Source','Destination','Protocol']).sum()\n",
    "category_group.head()"
   ]
  },
  {
   "cell_type": "code",
   "execution_count": 36,
   "metadata": {
    "collapsed": false,
    "scrolled": true
   },
   "outputs": [
    {
     "data": {
      "text/plain": [
       "<matplotlib.text.Text at 0xaa3c240c>"
      ]
     },
     "execution_count": 36,
     "metadata": {},
     "output_type": "execute_result"
    },
    {
     "data": {
      "image/png": "[encoded data removed]",
      "text/plain": [
       "<matplotlib.figure.Figure at 0xab2399ac>"
      ]
     },
     "metadata": {},
     "output_type": "display_data"
    }
   ],
   "source": [
    "my_plot = category_group.plot(kind='barh',stacked=True,title=\"Frekuensi Bruteforce SSH attack\",figsize=(20,4))\n",
    "my_plot.set_xlabel(\"Length Protocol\")\n",
    "my_plot.set_ylabel(\"Source IP - Destination IP\")"
   ]
  },
  {
   "cell_type": "code",
   "execution_count": 40,
   "metadata": {
    "collapsed": true
   },
   "outputs": [],
   "source": [
    "fig = infodata2_plot.get_figure()\n",
    "fig.savefig(\"Frekuensi Bruteforce SSH Attack.png\")"
   ]
  }
 ],
 "metadata": {
  "kernelspec": {
   "display_name": "Python 2",
   "language": "python",
   "name": "python2"
  },
  "language_info": {
   "codemirror_mode": {
    "name": "ipython",
    "version": 2
   },
   "file_extension": ".py",
   "mimetype": "text/x-python",
   "name": "python",
   "nbconvert_exporter": "python",
   "pygments_lexer": "ipython2",
   "version": "2.7.9"
  }
 },
 "nbformat": 4,
 "nbformat_minor": 0
}
